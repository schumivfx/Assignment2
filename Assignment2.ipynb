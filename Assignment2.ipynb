{
 "cells": [
  {
   "cell_type": "markdown",
   "id": "e4ba1606-c273-4f24-9685-975ab2c49764",
   "metadata": {},
   "source": [
    "Answer 1\n",
    "To Comment on your code in Python we use either # or \"\"\" at the start and end \"\"\". This will help in different users to understand the code in a better way, and keeps code organised.\n",
    "Below there are couple of options are available.\n",
    "1. Comment after the line or whole line\n",
    "#this is my comment\n",
    "or\n",
    "l = [1,2,3,4] #this is my list.\n",
    "\n",
    "2. Comments at the beginging and at the end of multiple line descriptions:\n",
    "\n",
    "\"\"\" Here are the comments of this code which are required to be understood \n",
    "before making any changes to it. Please make sure update the version along \n",
    "with mention the particular updated detail in short\"\"\"\n",
    "\n",
    "this way, the lines within the quotes will not be excuted and python will treat them as comments.\n",
    "\n"
   ]
  },
  {
   "cell_type": "markdown",
   "id": "cbb3bf58-ce06-4cb4-805a-bd94695ebaf4",
   "metadata": {},
   "source": [
    "Answer 2\n",
    "A variable is a container that store particular data assigned to it by \"=\" operator. this data can be called out anywhere in the code if its declared as world variable or it can just be a local varible which is inside a particular loop.\n",
    "\n",
    "You can assign a value to the variable on the right side of the assignment operator. The value can be a number, text (enclosed in quotes), boolean (True or False), or any other valid Python data type.\n",
    "\n",
    "Ex\n",
    "\n",
    "MyName = \"Nayak\" \n",
    "MyNumber = 12345\n",
    "Male = True\n",
    "Vehicles = ['cycle', 'bike', 'car']\n"
   ]
  },
  {
   "cell_type": "markdown",
   "id": "914e3077-a023-42dd-90d7-df79860c25b6",
   "metadata": {},
   "source": [
    "Answer 3\n",
    "\n",
    "Various Conversion functions are used to convert one data type to another data type. Ex\n",
    "int()\n",
    "f = 10.85\n",
    "i = int(f)\n",
    "print(i) # output will be 10\n",
    "\n",
    "string()\n",
    "i = 10\n",
    "s = string(i)\n",
    "print(i)# output will be \"10\"\n",
    "\n",
    "float()\n",
    "i = 25\n",
    "f = int(i)\n",
    "print(f) # output will be 25.0\n",
    "\n",
    "string = \"Hello\"\n",
    "myString = list(string)\n",
    "print(myString)  # output: ['H', 'e', 'l', 'l', 'o']\n",
    "\n",
    "myTuple = tuple(string)\n",
    "print(myTuple)  # output: ('H', 'e', 'l', 'l', 'o')\n",
    "\n",
    "mySet = set(string)\n",
    "print(mySet)  # output: {'H', 'e', 'l', 'o'}\n",
    "\n"
   ]
  },
  {
   "cell_type": "markdown",
   "id": "85e37e51-546a-45d6-9855-2c7f4f620cb7",
   "metadata": {},
   "source": [
    "Answer 4\n",
    "\n",
    "Any file which is saved with an extention of \".py\" can be executed by python editor, given that Python is installed already or it understands python code.\n",
    "\n",
    "write a code of python of your choice of editor or notepad . Save same file as extention myfile.py. save it on disk and copy the path of file.\n",
    "\n",
    "open win+r , write cmd and press enter to open command prompt.\n",
    "locate the file or paste after cd\n",
    "type : python myfile.py and press enter\n"
   ]
  },
  {
   "cell_type": "code",
   "execution_count": null,
   "id": "baee7eef-06a8-46a1-9d75-aff5095906c6",
   "metadata": {},
   "outputs": [],
   "source": [
    "# Answer 5\n",
    "my_list = [1, 2, 3, 4, 5]\n",
    "sub_list = my_list[1:3]\n",
    "print(sub_list)"
   ]
  },
  {
   "cell_type": "markdown",
   "id": "e0a38143-a3b6-49d7-a60b-01ee7689ea3a",
   "metadata": {},
   "source": [
    "Answer 6\n",
    "\n",
    "A complex number is a number that comprises both a real part and an imaginary part. It is written in the form a + bi, where a is the real part, b is the imaginary part, and i is the imaginary unit (√-1).\n",
    "\n",
    "In python it is represented as 'complex' data type.  'j' represents imaginary part in python and real part can be any integer, the formatoin looks like \"1 + 2j\"\n",
    "\n",
    "a = 1\n",
    "b = -4\n",
    "z2 = complex(a, b)\n",
    "print(z2)  # output: (1-4j)"
   ]
  },
  {
   "cell_type": "markdown",
   "id": "4bcb0694-2984-46fb-a10b-51241e5f6540",
   "metadata": {},
   "source": [
    "Answer 7\n",
    "\n",
    "In python we can declare it as\n",
    "\n",
    "age = 25\n",
    "\n"
   ]
  },
  {
   "cell_type": "code",
   "execution_count": null,
   "id": "655751d8-de68-4e83-92dc-8b462ebd2ece",
   "metadata": {},
   "outputs": [],
   "source": [
    "# Answer 8\n",
    "# we can declare variable price \n",
    "\n",
    "price = 9.99\n",
    "\n",
    "print(type(price))  # to check data type,this will give outpu of <class 'float'>\n"
   ]
  },
  {
   "cell_type": "code",
   "execution_count": null,
   "id": "cb503e78-2d78-49e2-9e93-5d9e4cb715f0",
   "metadata": {},
   "outputs": [],
   "source": [
    "# Answer 9\n",
    "\n",
    "# declare varible called name\n",
    "\n",
    "name = 'nayak'\n",
    "\n",
    "print(name)  # by mentioning name inside print function we can get the vale or name i.e 'nayak'\n",
    "\n"
   ]
  },
  {
   "cell_type": "code",
   "execution_count": null,
   "id": "3149f94f-e44d-40f8-ad24-577c3ec75f8f",
   "metadata": {},
   "outputs": [],
   "source": [
    "# Answer 10\n",
    "\n",
    "string  = \"Hello, World!\"\n",
    "substring = string[7:12]\n",
    "\n",
    "print(substring)"
   ]
  },
  {
   "cell_type": "code",
   "execution_count": null,
   "id": "e3677be0-a09d-4574-93d4-fd8cdd072c76",
   "metadata": {},
   "outputs": [],
   "source": [
    "# Answer 11\n",
    "#Creating a varible is_student and assigning it with a boolean value of true i.e represents i am a student. \n",
    "\n",
    "is_student = True\n"
   ]
  }
 ],
 "metadata": {
  "kernelspec": {
   "display_name": "Python 3 (ipykernel)",
   "language": "python",
   "name": "python3"
  },
  "language_info": {
   "codemirror_mode": {
    "name": "ipython",
    "version": 3
   },
   "file_extension": ".py",
   "mimetype": "text/x-python",
   "name": "python",
   "nbconvert_exporter": "python",
   "pygments_lexer": "ipython3",
   "version": "3.10.8"
  }
 },
 "nbformat": 4,
 "nbformat_minor": 5
}
